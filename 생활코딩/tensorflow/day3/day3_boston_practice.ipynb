{
 "cells": [
  {
   "cell_type": "code",
   "execution_count": 1,
   "metadata": {},
   "outputs": [],
   "source": [
    "import tensorflow as tf\n",
    "import pandas as pd"
   ]
  },
  {
   "cell_type": "code",
   "execution_count": 2,
   "metadata": {},
   "outputs": [],
   "source": [
    "# 데이터 불러오기\n",
    "filename = \"boston.csv\"\n",
    "data = pd.read_csv(filename)"
   ]
  },
  {
   "cell_type": "code",
   "execution_count": 3,
   "metadata": {},
   "outputs": [],
   "source": [
    "# 데이터 분리\n",
    "iv = data.iloc[:, :-1]\n",
    "# dv = data.iloc[:, -1]\n",
    "dv = data[['medv']]"
   ]
  },
  {
   "cell_type": "code",
   "execution_count": 4,
   "metadata": {},
   "outputs": [
    {
     "name": "stdout",
     "output_type": "stream",
     "text": [
      "\n",
      "(506, 13) (506, 1)\n"
     ]
    }
   ],
   "source": [
    "print(iv.shape, dv.shape)"
   ]
  },
  {
   "cell_type": "code",
   "execution_count": 5,
   "metadata": {},
   "outputs": [],
   "source": [
    "# 모델 구조 생성\n",
    "# 인풋레이어\n",
    "X = tf.keras.layers.Input(shape=[13]) # iv 특성 수\n",
    "# 아웃풋 레이어(결과)\n",
    "Y = tf.keras.layers.Dense(1)(X) # dv 특성 수 \n",
    "model = tf.keras.models.Model(X, Y)\n",
    "model.compile(loss='mse')"
   ]
  },
  {
   "cell_type": "code",
   "execution_count": 8,
   "metadata": {
    "scrolled": true
   },
   "outputs": [
    {
     "name": "stdout",
     "output_type": "stream",
     "text": [
      "Epoch 1/10\n",
      "16/16 [==============================] - 0s 1ms/step - loss: 24.1062\n",
      "Epoch 2/10\n",
      "16/16 [==============================] - 0s 1ms/step - loss: 23.2585\n",
      "Epoch 3/10\n",
      "16/16 [==============================] - 0s 1ms/step - loss: 24.1958\n",
      "Epoch 4/10\n",
      "16/16 [==============================] - 0s 1ms/step - loss: 23.3225\n",
      "Epoch 5/10\n",
      "16/16 [==============================] - 0s 1ms/step - loss: 23.6836\n",
      "Epoch 6/10\n",
      "16/16 [==============================] - 0s 1ms/step - loss: 23.8147\n",
      "Epoch 7/10\n",
      "16/16 [==============================] - 0s 1ms/step - loss: 23.9054\n",
      "Epoch 8/10\n",
      "16/16 [==============================] - 0s 1ms/step - loss: 24.0158\n",
      "Epoch 9/10\n",
      "16/16 [==============================] - 0s 1ms/step - loss: 23.8883\n",
      "Epoch 10/10\n",
      "16/16 [==============================] - 0s 2ms/step - loss: 24.5310\n"
     ]
    },
    {
     "data": {
      "text/plain": [
       "<tensorflow.python.keras.callbacks.History at 0x1f3d0bb76d8>"
      ]
     },
     "execution_count": 8,
     "metadata": {},
     "output_type": "execute_result"
    }
   ],
   "source": [
    "# verbose를 통해 러닝결과가 출력여부 결정\n",
    "# 10000, 1000, 10 러닝 진행결과 23 아래로 잘 내려가지 않음\n",
    "# 추가적인 러닝 방안 필요\n",
    "model.fit(iv, dv, epochs=1000, verbose=0)\n",
    "model.fit(iv, dv, epochs=10, verbose=1)"
   ]
  },
  {
   "cell_type": "code",
   "execution_count": 10,
   "metadata": {},
   "outputs": [
    {
     "name": "stdout",
     "output_type": "stream",
     "text": [
      "예측 결과 [[29.933426]\n",
      " [24.79287 ]\n",
      " [31.26606 ]\n",
      " [29.85654 ]\n",
      " [29.469402]]\n",
      "실제 결과    medv\n",
      "0  24.0\n",
      "1  21.6\n",
      "2  34.7\n",
      "3  33.4\n",
      "4  36.2\n"
     ]
    }
   ],
   "source": [
    "print(\"예측 결과\", model.predict(iv[0:5]))\n",
    "print(\"실제 결과\", dv[0:5])"
   ]
  },
  {
   "cell_type": "code",
   "execution_count": 11,
   "metadata": {},
   "outputs": [
    {
     "data": {
      "text/plain": [
       "[array([[-0.09429889],\n",
       "        [ 0.04787878],\n",
       "        [-0.02003695],\n",
       "        [ 2.6413229 ],\n",
       "        [-2.7035656 ],\n",
       "        [ 5.2134056 ],\n",
       "        [-0.01002108],\n",
       "        [-1.0763922 ],\n",
       "        [ 0.2016158 ],\n",
       "        [-0.01063759],\n",
       "        [-0.533214  ],\n",
       "        [ 0.01349011],\n",
       "        [-0.46314454]], dtype=float32),\n",
       " array([9.408204], dtype=float32)]"
      ]
     },
     "execution_count": 11,
     "metadata": {},
     "output_type": "execute_result"
    }
   ],
   "source": [
    "# 가중치 출력\n",
    "model.get_weights()"
   ]
  }
 ],
 "metadata": {
  "kernelspec": {
   "display_name": "Python 3",
   "language": "python",
   "name": "python3"
  },
  "language_info": {
   "codemirror_mode": {
    "name": "ipython",
    "version": 3
   },
   "file_extension": ".py",
   "mimetype": "text/x-python",
   "name": "python",
   "nbconvert_exporter": "python",
   "pygments_lexer": "ipython3",
   "version": "3.7.3"
  }
 },
 "nbformat": 4,
 "nbformat_minor": 4
}
