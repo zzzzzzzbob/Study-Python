{
 "cells": [
  {
   "cell_type": "code",
   "execution_count": 1,
   "metadata": {},
   "outputs": [],
   "source": [
    "import tensorflow as tf\n",
    "import pandas as pd"
   ]
  },
  {
   "cell_type": "code",
   "execution_count": 2,
   "metadata": {},
   "outputs": [],
   "source": [
    "# 데이터 호출\\\n",
    "filename = \"iris.csv\"\n",
    "data_raw = pd.read_csv(filename)\n",
    "\n",
    "# 범주형 데이터이기 때문에 원핫 인코딩으로 진행 --> 각 종속 변수를 분리하여 0, 1로 분류\n",
    "data = pd.get_dummies(data_raw)\n",
    "\n",
    "# 범주의 분류 구하기\n",
    "# data_raw['품종'].value_counts()"
   ]
  },
  {
   "cell_type": "code",
   "execution_count": 3,
   "metadata": {},
   "outputs": [],
   "source": [
    "# 데이터 세팅\n",
    "# iloc 와 미묘한 차이가 있다\n",
    "iv = data[['꽃잎길이', '꽃잎폭', '꽃받침길이', '꽃받침폭']]\n",
    "dv = data[['품종_setosa', '품종_versicolor', '품종_virginica']]"
   ]
  },
  {
   "cell_type": "code",
   "execution_count": 4,
   "metadata": {},
   "outputs": [],
   "source": [
    "# 비율 예측을 위해 활성화함수 softmax 사용\n",
    "#  0 <= softmax() <= 1\n",
    "X = tf.keras.layers.Input(shape=[4]) # 4개의 input\n",
    "Y = tf.keras.layers.Dense(3, activation=\"softmax\")(X) # 3개의 범주\n",
    "model = tf.keras.models.Model(X, Y)\n",
    "model.compile(loss=\"categorical_crossentropy\", metrics='accuracy')"
   ]
  },
  {
   "cell_type": "code",
   "execution_count": 5,
   "metadata": {},
   "outputs": [
    {
     "name": "stdout",
     "output_type": "stream",
     "text": [
      "Epoch 1/10\n",
      "5/5 [==============================] - 0s 1ms/step - loss: 0.1575 - accuracy: 0.9733\n",
      "Epoch 2/10\n",
      "5/5 [==============================] - 0s 798us/step - loss: 0.1577 - accuracy: 0.9733\n",
      "Epoch 3/10\n",
      "5/5 [==============================] - 0s 997us/step - loss: 0.1570 - accuracy: 0.9733\n",
      "Epoch 4/10\n",
      "5/5 [==============================] - 0s 1ms/step - loss: 0.1570 - accuracy: 0.9733\n",
      "Epoch 5/10\n",
      "5/5 [==============================] - 0s 1ms/step - loss: 0.1581 - accuracy: 0.9733\n",
      "Epoch 6/10\n",
      "5/5 [==============================] - 0s 997us/step - loss: 0.1576 - accuracy: 0.9733\n",
      "Epoch 7/10\n",
      "5/5 [==============================] - 0s 998us/step - loss: 0.1565 - accuracy: 0.9733\n",
      "Epoch 8/10\n",
      "5/5 [==============================] - 0s 994us/step - loss: 0.1569 - accuracy: 0.9733\n",
      "Epoch 9/10\n",
      "5/5 [==============================] - 0s 991us/step - loss: 0.1568 - accuracy: 0.9733\n",
      "Epoch 10/10\n",
      "5/5 [==============================] - 0s 2ms/step - loss: 0.1564 - accuracy: 0.9733\n"
     ]
    },
    {
     "data": {
      "text/plain": [
       "<tensorflow.python.keras.callbacks.History at 0x1c40a365978>"
      ]
     },
     "execution_count": 5,
     "metadata": {},
     "output_type": "execute_result"
    }
   ],
   "source": [
    "model.fit(iv, dv, epochs=1000, verbose=0)\n",
    "model.fit(iv, dv, epochs=10)"
   ]
  },
  {
   "cell_type": "code",
   "execution_count": 6,
   "metadata": {},
   "outputs": [
    {
     "data": {
      "text/plain": [
       "array([[9.9909818e-01, 9.0169616e-04, 6.4470115e-08],\n",
       "       [9.9626595e-01, 3.7335004e-03, 6.0525889e-07],\n",
       "       [9.9826616e-01, 1.7336861e-03, 2.4348370e-07],\n",
       "       [9.9514872e-01, 4.8500779e-03, 1.1731923e-06],\n",
       "       [9.9926621e-01, 7.3382002e-04, 5.2737750e-08]], dtype=float32)"
      ]
     },
     "execution_count": 6,
     "metadata": {},
     "output_type": "execute_result"
    }
   ],
   "source": [
    "model.predict(iv[:5])"
   ]
  },
  {
   "cell_type": "code",
   "execution_count": 7,
   "metadata": {},
   "outputs": [
    {
     "data": {
      "text/plain": [
       "[array([[ 1.102058  ,  0.54098374, -0.66522104],\n",
       "        [ 2.8375378 ,  0.21464382, -0.9401355 ],\n",
       "        [-3.9586525 , -0.39127606,  1.1466712 ],\n",
       "        [-4.0392222 , -1.8882415 ,  1.4659193 ]], dtype=float32),\n",
       " array([ 1.4414328,  1.0481873, -1.1282302], dtype=float32)]"
      ]
     },
     "execution_count": 7,
     "metadata": {},
     "output_type": "execute_result"
    }
   ],
   "source": [
    "# 모델의 가중치 확인\n",
    "model.get_weights()"
   ]
  }
 ],
 "metadata": {
  "kernelspec": {
   "display_name": "Python 3",
   "language": "python",
   "name": "python3"
  },
  "language_info": {
   "codemirror_mode": {
    "name": "ipython",
    "version": 3
   },
   "file_extension": ".py",
   "mimetype": "text/x-python",
   "name": "python",
   "nbconvert_exporter": "python",
   "pygments_lexer": "ipython3",
   "version": "3.7.3"
  }
 },
 "nbformat": 4,
 "nbformat_minor": 4
}
