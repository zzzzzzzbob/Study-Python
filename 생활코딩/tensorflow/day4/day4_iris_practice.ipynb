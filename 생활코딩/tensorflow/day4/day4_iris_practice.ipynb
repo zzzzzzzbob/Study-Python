{
 "cells": [
  {
   "cell_type": "code",
   "execution_count": 1,
   "metadata": {},
   "outputs": [],
   "source": [
    "import tensorflow as tf\n",
    "import pandas as pd"
   ]
  },
  {
   "cell_type": "code",
   "execution_count": 2,
   "metadata": {},
   "outputs": [
    {
     "data": {
      "text/plain": [
       "versicolor    50\n",
       "virginica     50\n",
       "setosa        50\n",
       "Name: 품종, dtype: int64"
      ]
     },
     "execution_count": 2,
     "metadata": {},
     "output_type": "execute_result"
    }
   ],
   "source": [
    "# 데이터 호출\\\n",
    "filename = \"iris.csv\"\n",
    "data_raw = pd.read_csv(filename)\n",
    "\n",
    "# 범주형 데이터이기 때문에 원핫 인코딩으로 진행 --> 각 종속 변수를 분리하여 0, 1로 분류\n",
    "data = pd.get_dummies(data_raw)\n",
    "\n",
    "# 범주의 분류 구하기\n",
    "data_raw['품종'].value_counts()"
   ]
  },
  {
   "cell_type": "code",
   "execution_count": 3,
   "metadata": {},
   "outputs": [],
   "source": [
    "# 데이터 세팅\n",
    "# iloc 와 미묘한 차이가 있다\n",
    "iv = data[['꽃잎길이', '꽃잎폭', '꽃받침길이', '꽃받침폭']]\n",
    "dv = data[['품종_setosa', '품종_versicolor', '품종_virginica']]"
   ]
  },
  {
   "cell_type": "code",
   "execution_count": 4,
   "metadata": {},
   "outputs": [],
   "source": [
    "# 비율 예측을 위해 활성화함수 softmax 사용\n",
    "#  0 <= softmax() <= 1\n",
    "X = tf.keras.layers.Input(shape=[4]) # 4개의 input\n",
    "Y = tf.keras.layers.Dense(3, activation=\"softmax\")(X) # 3개의 범주\n",
    "model = tf.keras.models.Model(X, Y)\n",
    "model.compile(loss=\"categorical_crossentropy\", metrics='accuracy')"
   ]
  },
  {
   "cell_type": "code",
   "execution_count": 5,
   "metadata": {},
   "outputs": [
    {
     "name": "stdout",
     "output_type": "stream",
     "text": [
      "Epoch 1/10\n",
      "5/5 [==============================] - 0s 2ms/step - loss: 0.1614 - accuracy: 0.9733\n",
      "Epoch 2/10\n",
      "5/5 [==============================] - 0s 1ms/step - loss: 0.1614 - accuracy: 0.9800\n",
      "Epoch 3/10\n",
      "5/5 [==============================] - 0s 996us/step - loss: 0.1610 - accuracy: 0.9800\n",
      "Epoch 4/10\n",
      "5/5 [==============================] - 0s 997us/step - loss: 0.1609 - accuracy: 0.9800\n",
      "Epoch 5/10\n",
      "5/5 [==============================] - 0s 798us/step - loss: 0.1620 - accuracy: 0.9733\n",
      "Epoch 6/10\n",
      "5/5 [==============================] - 0s 1ms/step - loss: 0.1605 - accuracy: 0.9733\n",
      "Epoch 7/10\n",
      "5/5 [==============================] - 0s 1ms/step - loss: 0.1608 - accuracy: 0.9800\n",
      "Epoch 8/10\n",
      "5/5 [==============================] - 0s 1ms/step - loss: 0.1606 - accuracy: 0.9667\n",
      "Epoch 9/10\n",
      "5/5 [==============================] - 0s 2ms/step - loss: 0.1605 - accuracy: 0.9733\n",
      "Epoch 10/10\n",
      "5/5 [==============================] - 0s 1ms/step - loss: 0.1602 - accuracy: 0.9800\n"
     ]
    },
    {
     "data": {
      "text/plain": [
       "<tensorflow.python.keras.callbacks.History at 0x1e01a7b3cc0>"
      ]
     },
     "execution_count": 5,
     "metadata": {},
     "output_type": "execute_result"
    }
   ],
   "source": [
    "model.fit(iv, dv, epochs=1000, verbose=0)\n",
    "model.fit(iv, dv, epochs=10)"
   ]
  },
  {
   "cell_type": "code",
   "execution_count": 6,
   "metadata": {},
   "outputs": [
    {
     "data": {
      "text/plain": [
       "array([[9.9940705e-01, 5.9293990e-04, 5.6266064e-08],\n",
       "       [9.9659157e-01, 3.4077347e-03, 7.5153309e-07],\n",
       "       [9.9880898e-01, 1.1907652e-03, 2.0574917e-07],\n",
       "       [9.9649698e-01, 3.5021524e-03, 9.8926364e-07],\n",
       "       [9.9957985e-01, 4.2011600e-04, 3.7785096e-08]], dtype=float32)"
      ]
     },
     "execution_count": 6,
     "metadata": {},
     "output_type": "execute_result"
    }
   ],
   "source": [
    "model.predict(iv[:5])"
   ]
  },
  {
   "cell_type": "code",
   "execution_count": 7,
   "metadata": {},
   "outputs": [
    {
     "data": {
      "text/plain": [
       "[array([[ 0.6204209 ,  0.58062893, -0.24114358],\n",
       "        [ 3.3312545 , -0.15589143, -1.5138097 ],\n",
       "        [-3.8424933 , -0.20046179,  1.1672999 ],\n",
       "        [-3.442561  , -1.7393647 ,  1.4332331 ]], dtype=float32),\n",
       " array([ 1.7920593,  1.3307008, -1.5376887], dtype=float32)]"
      ]
     },
     "execution_count": 7,
     "metadata": {},
     "output_type": "execute_result"
    }
   ],
   "source": [
    "# 모델의 가중치 확인\n",
    "model.get_weights()"
   ]
  }
 ],
 "metadata": {
  "kernelspec": {
   "display_name": "Python 3",
   "language": "python",
   "name": "python3"
  },
  "language_info": {
   "codemirror_mode": {
    "name": "ipython",
    "version": 3
   },
   "file_extension": ".py",
   "mimetype": "text/x-python",
   "name": "python",
   "nbconvert_exporter": "python",
   "pygments_lexer": "ipython3",
   "version": "3.7.3"
  }
 },
 "nbformat": 4,
 "nbformat_minor": 4
}
