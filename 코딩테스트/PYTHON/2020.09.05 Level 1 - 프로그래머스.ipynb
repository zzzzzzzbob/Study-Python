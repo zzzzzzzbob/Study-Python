{
 "cells": [
  {
   "cell_type": "code",
   "execution_count": null,
   "metadata": {},
   "outputs": [],
   "source": [
    "# 35. x만큼 간격이 있는 n개의 숫자\n",
    "def solution(x, n):\n",
    "    return [num for num in range(x, x*n+(x//abs(x)), x)] if x else [0]*n \n",
    "  \n",
    "#     더 깔끔한 코드\n",
    "#     return [i * x + x for i in range(n)]\n",
    "    "
   ]
  },
  {
   "cell_type": "code",
   "execution_count": null,
   "metadata": {},
   "outputs": [],
   "source": [
    "# 36. 직사각형 별찍기\n",
    "def solution(a, b):\n",
    "    for x in range(b):\n",
    "        print(\"*\"*a)"
   ]
  },
  {
   "cell_type": "code",
   "execution_count": null,
   "metadata": {},
   "outputs": [],
   "source": [
    "# 37. [Summer/Winter coding 2018] 예산 \n",
    "def solution(d, budget):\n",
    "    d = sorted(d)\n",
    "    answer = 0 \n",
    "    while True:\n",
    "        if not d or budget < min(d):\n",
    "            break\n",
    "        budget -= d.pop(0)\n",
    "        answer += 1\n",
    "    return answer"
   ]
  },
  {
   "cell_type": "code",
   "execution_count": 4,
   "metadata": {},
   "outputs": [],
   "source": [
    "# 38. [2018 KAKAO BLIND] - [1차] 비밀지도\n",
    "def solution(n ,arr1, arr2):\n",
    "    arr = [bin(x|y)[2:] for x, y in zip(arr1, arr2)]\n",
    "#     arr = ['0'*(n-len(x))+x for x in arr]\n",
    "    answer = []\n",
    "    for x in arr:\n",
    "        x = x.rjust(n, '0')\n",
    "        answer.append(''.join([ '#' if int(y) else ' ' for y in x]))\n",
    "                      \n",
    "    return answer\n",
    "\n",
    "#     또 저 깔끔해 보이는 코드\n",
    "#     rjust를 통해 오른쪽 정렬 후 남은 칸에 대해 채울 수 있다.\n",
    "#     '문자열'.rjust(칸수, 모자란 칸 채울 문자)\n",
    "#     for i,j in zip(arr1,arr2):\n",
    "#         a12 = str(bin(i|j)[2:])\n",
    "#         a12=a12.rjust(n,'0')\n",
    "#         a12=a12.replace('1','#')\n",
    "#         a12=a12.replace('0',' ')\n",
    "#         answer.append(a12)\n",
    "#     return answer"
   ]
  },
  {
   "cell_type": "code",
   "execution_count": 5,
   "metadata": {},
   "outputs": [],
   "source": [
    "# 39. [2019 KAKAO BLIND] - 실패율\n",
    "def solution(N, stages):\n",
    "    answer = []\n",
    "    # user 수\n",
    "    users = len(stages)\n",
    "    # stage 별 카운트\n",
    "    for i in range(1, N+1):\n",
    "        fail_count = stages.count(i)\n",
    "        if users == 0 : \n",
    "            fail = 0\n",
    "        else: \n",
    "            fail = fail_count/users\n",
    "        answer.append((i, fail))\n",
    "        users -= fail_count\n",
    "    \n",
    "    answer = sorted(answer, key=lambda x: x[1], reverse=True)\n",
    "    \n",
    "    return [x[0] for x in answer]\n"
   ]
  },
  {
   "cell_type": "code",
   "execution_count": 6,
   "metadata": {},
   "outputs": [],
   "source": [
    "# 40. [2018 KAKAO BLIND] - [1차] 다트 게임\n",
    "def solution(dartResult):\n",
    "    q = {\"S\":1, \"D\":2,\"T\":3, \"*\":2, \"#\":-1}\n",
    "    result =[] \n",
    "    pre = 0\n",
    "    for idx, x in enumerate(dartResult) :\n",
    "        if x.isalpha():\n",
    "            result.append(int(dartResult[pre:idx])**q[x])\n",
    "            pre = idx+1\n",
    "\n",
    "        elif x == \"*\" or x == \"#\":\n",
    "            pre += 1\n",
    "            for v in range(len(result[-abs(q[x]):])*-1, 0):\n",
    "                result[v] = result[v]*q[x]\n",
    "                \n",
    "    return sum(result)"
   ]
  }
 ],
 "metadata": {
  "kernelspec": {
   "display_name": "Python 3",
   "language": "python",
   "name": "python3"
  },
  "language_info": {
   "codemirror_mode": {
    "name": "ipython",
    "version": 3
   },
   "file_extension": ".py",
   "mimetype": "text/x-python",
   "name": "python",
   "nbconvert_exporter": "python",
   "pygments_lexer": "ipython3",
   "version": "3.7.3"
  }
 },
 "nbformat": 4,
 "nbformat_minor": 4
}
