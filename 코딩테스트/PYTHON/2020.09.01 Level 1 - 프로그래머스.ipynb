{
 "cells": [
  {
   "cell_type": "code",
   "execution_count": 1,
   "metadata": {},
   "outputs": [],
   "source": [
    "# 15. 서울에서 김서방 찾기\n",
    "def solution(seoul):\n",
    "    return \"김서방은 {}에 있다\".format(seoul.index(\"Kim\"))"
   ]
  },
  {
   "cell_type": "code",
   "execution_count": 2,
   "metadata": {},
   "outputs": [],
   "source": [
    "# 16. 소수 찾기\n",
    "def solution(n):\n",
    "    answer = 0\n",
    "    for num in range(2,n+1):\n",
    "        flag = True\n",
    "        for x in range(2, (num//2)+1):\n",
    "            if num % x == 0:\n",
    "                flag = False\n",
    "                break\n",
    "        if flag:\n",
    "            answer += 1      \n",
    "    return answer"
   ]
  },
  {
   "cell_type": "code",
   "execution_count": 3,
   "metadata": {},
   "outputs": [],
   "source": [
    "# 16. 소수찾기 \n",
    "# 에라토스테네스의 체를 이용 \n",
    "def solution(n):\n",
    "    arr = [ num for num in range(1, n+1)]\n",
    "    for i in range(2, (n//2)+1):\n",
    "        for j in range(i-1+i, len(arr), i):\n",
    "            if arr[j]== 0:\n",
    "                continue\n",
    "            elif arr[j] % i == 0:\n",
    "                arr[j] = 0\n",
    "        \n",
    "    return len(arr[1:]) - arr.count(0)\n",
    "\n",
    "\n",
    "# 매우 정리된 코드\n",
    "def solution(n):\n",
    "    num=set(range(2,n+1))\n",
    "\n",
    "    for i in range(2,n+1):\n",
    "        if i in num:\n",
    "            num-=set(range(2*i,n+1,i))\n",
    "    return len(num)"
   ]
  },
  {
   "cell_type": "code",
   "execution_count": 4,
   "metadata": {},
   "outputs": [],
   "source": [
    "# 17. 수박수박수박수박수박수?\n",
    "\n",
    "def solution(n):\n",
    "    return ''.join(['박' if n%2 else '수' for n in range(n)])\n",
    "\n",
    "# 다양한 코드\n",
    "def solution(n):\n",
    "    return \"수박\"*(n//2) + \"수\"*(n%2)"
   ]
  },
  {
   "cell_type": "code",
   "execution_count": 5,
   "metadata": {},
   "outputs": [],
   "source": [
    "# 18. 문자열을 정수로 바꾸기\n",
    "def solution(s):\n",
    "    return int(s)"
   ]
  },
  {
   "cell_type": "code",
   "execution_count": 6,
   "metadata": {},
   "outputs": [],
   "source": [
    "# 19. 시저 암호\n",
    "def solution(s, n):\n",
    "    answer = \"\"\n",
    "    for word in s :\n",
    "        if word.isspace():\n",
    "            answer+=word\n",
    "        elif ord(word) > 96:\n",
    "            answer += chr((ord(word)-ord('a')+ n)%26+ord('a'))\n",
    "        else:\n",
    "            answer += chr((ord(word)-ord('A')+ n)%26+ord('A'))\n",
    "    return answer\n",
    "\n",
    "\n",
    "# 다른 사람의 정리된 코드 \n",
    "# def caesar(s, n):\n",
    "# #     s = list(s)\n",
    "#     for i in range(len(s)):\n",
    "#         if s[i].isupper():\n",
    "#             s[i]=chr((ord(s[i])-ord('A')+ n)%26+ord('A'))\n",
    "#         elif s[i].islower():\n",
    "#             s[i]=chr((ord(s[i])-ord('a')+ n)%26+ord('a'))\n",
    "\n",
    "#     return \"\".join(s)\n"
   ]
  },
  {
   "cell_type": "code",
   "execution_count": 7,
   "metadata": {},
   "outputs": [],
   "source": [
    "# 20. 약수의 합\n",
    "def solution(n):\n",
    "    # 좀 더 개선하려면 n+1 까지 가지말고 n // 2 하면 더 빨라진다.\n",
    "    # 대신 n은 별도로 더해준다.\n",
    "    answer = [num for num in range(1,n//2+1) if n%num==0]\n",
    "    \n",
    "    return sum(answer)+n"
   ]
  },
  {
   "cell_type": "code",
   "execution_count": 8,
   "metadata": {},
   "outputs": [],
   "source": [
    "# 21. 이상한 문자 만들기\n",
    "def solution(s):\n",
    "    answer, i = \"\", 0\n",
    "    for word in s:\n",
    "        if word == \" \":\n",
    "            answer += \" \"\n",
    "            i = -1\n",
    "        elif (i)%2:\n",
    "            answer += word.lower()\n",
    "        else:\n",
    "            answer += word.upper()\n",
    "        i += 1       \n",
    "\n",
    "    return answer\n",
    "\n",
    "# 공백처리 제한\n",
    "# return ''.join([word.lower() if idx%2 else word.upper() for _s in s.split(\" \") for idx, word in enumerate(_s) ])"
   ]
  },
  {
   "cell_type": "code",
   "execution_count": 9,
   "metadata": {},
   "outputs": [],
   "source": [
    "# 22. 자릿수 더하기\n",
    "def solution(n):\n",
    "    answer = 0\n",
    "    while n:\n",
    "        n, a = divmod(n, 10) # divmod(123, 10) -> (12, 3)\n",
    "        answer += a\n",
    "    return answer\n",
    "\n",
    "# 다른 사람의 코드\n",
    "# return sum(map(int,str(number)))"
   ]
  }
 ],
 "metadata": {
  "kernelspec": {
   "display_name": "Python 3",
   "language": "python",
   "name": "python3"
  },
  "language_info": {
   "codemirror_mode": {
    "name": "ipython",
    "version": 3
   },
   "file_extension": ".py",
   "mimetype": "text/x-python",
   "name": "python",
   "nbconvert_exporter": "python",
   "pygments_lexer": "ipython3",
   "version": "3.7.6"
  }
 },
 "nbformat": 4,
 "nbformat_minor": 4
}
