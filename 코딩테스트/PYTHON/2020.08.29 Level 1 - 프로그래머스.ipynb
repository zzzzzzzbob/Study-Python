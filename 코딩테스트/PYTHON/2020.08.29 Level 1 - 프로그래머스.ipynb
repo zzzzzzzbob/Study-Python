{
 "cells": [
  {
   "cell_type": "code",
   "execution_count": 1,
   "metadata": {},
   "outputs": [],
   "source": [
    "# 4. 체육복 - 탐욕법\n",
    "def solution(n, lost, reserve):\n",
    "    \n",
    "    answer = n - len(lost)\n",
    "    \n",
    "    for x in lost:\n",
    "        if x in lost and x in reserve:\n",
    "            lost.remove(x)\n",
    "            reserve.remove(x) \n",
    "    \n",
    "    for l in lost :\n",
    "        print(l)\n",
    "        for r in reserve:  \n",
    "            if abs(l-r) <= 1:\n",
    "                reserve.remove(r)\n",
    "                answer += 1\n",
    "                \n",
    "                break\n",
    "            \n",
    "    return answer"
   ]
  },
  {
   "cell_type": "code",
   "execution_count": 2,
   "metadata": {},
   "outputs": [],
   "source": [
    "# 5. K번째수 - 정렬\n",
    "def solution(array, commands):\n",
    "    answer = []\n",
    "    for c in commands:\n",
    "        answer.append( sorted(array[c[0]-1:c[1]])[c[2]-1])\n",
    "        \n",
    "    return answer\n",
    "\n",
    "    # 한줄코딩\n",
    "    # answer = list(map(lambda c : sorted(array[c[0]-1:c[1]])[c[2]-1],commands ))"
   ]
  },
  {
   "cell_type": "code",
   "execution_count": 3,
   "metadata": {},
   "outputs": [],
   "source": [
    "# 6. 2016년 - 연습문제\n",
    "from calendar import weekday\n",
    "\n",
    "def solution(a, b):\n",
    "    d = {0:\"MON\", 1:\"TUE\", 2:\"WED\", 3:\"THU\", 4: \"FRI\", 5:\"SAT\", 6:\"SUN\"}\n",
    "    return d[weekday(2016, a, b)]"
   ]
  },
  {
   "cell_type": "code",
   "execution_count": 4,
   "metadata": {},
   "outputs": [],
   "source": [
    "# 7. 가운데 글자 가져오기 - 연습문제\n",
    "def solution(s):\n",
    "    median = len(s)//2\n",
    "    if len(s) % 2 :\n",
    "        return s[median]\n",
    "    else:\n",
    "        return s[median-1:median+1]\n",
    "\n",
    "\n",
    "    # 한줄코딩\n",
    "    # return str[(len(str)-1)//2:len(str)//2+1]\n"
   ]
  },
  {
   "cell_type": "code",
   "execution_count": 5,
   "metadata": {},
   "outputs": [],
   "source": [
    "# 8. 같은 숫자는 싫어\n",
    "def solution(arr):\n",
    "    answer = [arr.pop(0)]\n",
    "    [ answer.append(num) for num in arr if num != answer[-1] ]\n",
    "    return answer\n"
   ]
  },
  {
   "cell_type": "code",
   "execution_count": 6,
   "metadata": {},
   "outputs": [],
   "source": [
    "# 9. 나누어 떨어지는 숫자 배열\n",
    "def solution(arr, divisor):\n",
    "    arr = [ x for x in arr if not x%divisor ]\n",
    "    if arr :\n",
    "        return sorted(arr)\n",
    "    else:\n",
    "        return [-1]\n",
    "    \n",
    "    # 한줄코딩\n",
    "    # return sorted([n for n in arr if not n% divisor] or [-1])"
   ]
  },
  {
   "cell_type": "code",
   "execution_count": 7,
   "metadata": {},
   "outputs": [],
   "source": [
    "# 10.두 정수 사이의 합\n",
    "def solution(a, b): \n",
    "    return (len(range(min(a,b), max(a,b)+1))*(a+b))//2\n",
    "\n",
    "    # 좀 더 정리된 코드\n",
    "#     return (abs(a-b)+1)*(a+b)//2\n"
   ]
  },
  {
   "cell_type": "code",
   "execution_count": 8,
   "metadata": {},
   "outputs": [],
   "source": [
    "# 11. 문자열 내 마음대로 정렬하기\n",
    "def solution(strings, n):\n",
    "    return sorted(sorted(strings), key=lambda string: string[n] )"
   ]
  },
  {
   "cell_type": "code",
   "execution_count": 9,
   "metadata": {},
   "outputs": [],
   "source": [
    "# 12. 문자열 내 p와 y의 개수\n",
    "def solution(s):     \n",
    "    return True if s.lower().count('p') == s.lower().count('y') else False\n",
    "\n",
    "    # 좀 더 정리된 코트 - 굳이 if문을 쓰지 않아도 된다.\n",
    "    # return s.lower().count('p') == s.lower().count('y')\n"
   ]
  },
  {
   "cell_type": "code",
   "execution_count": 10,
   "metadata": {},
   "outputs": [],
   "source": [
    "# 13. 문자열 내림차순으로 배치하기\n",
    "def solution(string):\n",
    "    return ''.join(sorted(string, reverse=True))\n"
   ]
  },
  {
   "cell_type": "code",
   "execution_count": 11,
   "metadata": {},
   "outputs": [],
   "source": [
    "# 14. 문자열 다루는 기본\n",
    "def solution(s):\n",
    "    return s.isdigit() if len(s) == 4 or len(s) == 6 else False\n",
    "    \n",
    "    # 좀 더 정리된 코드 - if문 대신 사용할 수 있는 방법\n",
    "    # return s.isdigit() and len(s) in (4, 6)"
   ]
  }
 ],
 "metadata": {
  "kernelspec": {
   "display_name": "Python 3",
   "language": "python",
   "name": "python3"
  },
  "language_info": {
   "codemirror_mode": {
    "name": "ipython",
    "version": 3
   },
   "file_extension": ".py",
   "mimetype": "text/x-python",
   "name": "python",
   "nbconvert_exporter": "python",
   "pygments_lexer": "ipython3",
   "version": "3.7.6"
  }
 },
 "nbformat": 4,
 "nbformat_minor": 4
}
