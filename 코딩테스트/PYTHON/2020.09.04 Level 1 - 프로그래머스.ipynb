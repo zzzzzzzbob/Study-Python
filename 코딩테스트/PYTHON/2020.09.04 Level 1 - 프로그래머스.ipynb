{
 "cells": [
  {
   "cell_type": "code",
   "execution_count": null,
   "metadata": {},
   "outputs": [],
   "source": [
    "# 26. 제일 작은수 제거하기\n",
    "def solution(arr):\n",
    "    arr.remove(min(arr))\n",
    "    return arr or [-1]"
   ]
  },
  {
   "cell_type": "code",
   "execution_count": null,
   "metadata": {},
   "outputs": [],
   "source": [
    "# 27. 짝수와 홀수\n",
    "def solution(num):\n",
    "    return \"Odd\" if num%2 else \"Even\""
   ]
  },
  {
   "cell_type": "code",
   "execution_count": null,
   "metadata": {},
   "outputs": [],
   "source": [
    "# 28. [카카오 인턴] 키패드 누르기\n",
    "def solution(numbers, hand):\n",
    "    answer = \"\"\n",
    "    keypad = {x*2 +x+y:(x, y)  for x in range(0,4) for y in range(1,4) }\n",
    "    keypad[0] = keypad[11]\n",
    "    l = 10\n",
    "    r = 12\n",
    "    \n",
    "    for n in numbers :\n",
    "        if keypad[n][1] == 1:\n",
    "            l = n\n",
    "            answer += \"L\"\n",
    "        elif keypad[n][1] == 3:\n",
    "            r = n\n",
    "            answer += \"R\"\n",
    "\n",
    "        else:\n",
    "            if abs(keypad[l][0] - keypad[n][0]) + abs(keypad[l][1] - keypad[n][1]) < abs(keypad[r][0] - keypad[n][0]) + abs(keypad[r][1] - keypad[n][1]):\n",
    "                l = n\n",
    "                answer += \"L\"\n",
    "            elif abs(keypad[l][0] - keypad[n][0]) + abs(keypad[l][1] - keypad[n][1]) > abs(keypad[r][0] - keypad[n][0]) + abs(keypad[r][1] - keypad[n][1]):\n",
    "                r = n\n",
    "                answer += \"R\"\n",
    "            else:\n",
    "                if hand == \"right\":\n",
    "                    r = n\n",
    "                    answer += \"R\"\n",
    "                else:\n",
    "                    l = n\n",
    "                    answer += \"L\"\n",
    "    return answer \n"
   ]
  },
  {
   "cell_type": "code",
   "execution_count": null,
   "metadata": {},
   "outputs": [],
   "source": [
    "### 29. 최대 공약수와 최소 공배수\n",
    "def solution(n, m):\n",
    "    n, m = min(n,m), max(n,m)\n",
    "    \n",
    "    _max = max([num for num in range(1,n//2+1) if n%num == 0 and m%num == 0])\n",
    "    _min = m if m%n == 0 else m*n//_max\n",
    "    \n",
    "    return [_max, _min]\n",
    "\n"
   ]
  },
  {
   "cell_type": "code",
   "execution_count": null,
   "metadata": {},
   "outputs": [],
   "source": [
    "# 30. 콜라츠 추측\n",
    "def solution(num):\n",
    "    answer = 0\n",
    "    while num != 1:\n",
    "        if num%2 :\n",
    "            num *= 3\n",
    "            num += 1\n",
    "        else:\n",
    "            num //=  2\n",
    "        answer += 1\n",
    "        if answer > 500:\n",
    "            return -1\n",
    "    return answer\n",
    "\n"
   ]
  },
  {
   "cell_type": "code",
   "execution_count": null,
   "metadata": {},
   "outputs": [],
   "source": [
    "# 31. 평균 구하기\n",
    "def solution(arr):\n",
    "    return sum(arr)/len(arr)\n"
   ]
  },
  {
   "cell_type": "code",
   "execution_count": 7,
   "metadata": {},
   "outputs": [],
   "source": [
    "# 32. 하샤드 수 - \n",
    "def solution(x):\n",
    "    return False if x%sum(map(int, str(x))) else True"
   ]
  },
  {
   "cell_type": "code",
   "execution_count": 8,
   "metadata": {},
   "outputs": [],
   "source": [
    "# 33. 핸드폰 번호 가리기\n",
    "def solution(phone_number):\n",
    "    return '*'*(len(phone_number)-4)+phone_number[-4:]"
   ]
  },
  {
   "cell_type": "code",
   "execution_count": 9,
   "metadata": {},
   "outputs": [],
   "source": [
    "# 34. 행렬의 덧셈\n",
    "def solution(arr1, arr2):\n",
    "    return [[c + d for c, d in zip(a, b)] for a, b in zip(arr1, arr2)]"
   ]
  }
 ],
 "metadata": {
  "kernelspec": {
   "display_name": "Python 3",
   "language": "python",
   "name": "python3"
  },
  "language_info": {
   "codemirror_mode": {
    "name": "ipython",
    "version": 3
   },
   "file_extension": ".py",
   "mimetype": "text/x-python",
   "name": "python",
   "nbconvert_exporter": "python",
   "pygments_lexer": "ipython3",
   "version": "3.7.3"
  }
 },
 "nbformat": 4,
 "nbformat_minor": 4
}
