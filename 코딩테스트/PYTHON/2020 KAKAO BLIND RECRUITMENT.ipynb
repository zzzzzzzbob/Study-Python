{
 "cells": [
  {
   "cell_type": "code",
   "execution_count": 1,
   "metadata": {},
   "outputs": [],
   "source": [
    "# 1. 문자열 압축\n",
    "def solution(s):\n",
    "    answer = len(s)\n",
    "    for x in range(1,len(s)//2+1):\n",
    "        check_list = [s[pre:pre+x] for pre in range(0,len(s),x)]\n",
    "        cnt = 1\n",
    "        word_list = \"\"\n",
    "        for idx in range(len(check_list)):\n",
    "            if idx < len(check_list) - 1 and check_list[idx] == check_list[idx+1]:\n",
    "                cnt += 1\n",
    "            else:\n",
    "                word_list+=(str(cnt)+check_list[idx])\n",
    "                cnt = 1\n",
    "        word_list = word_list.replace('1','')\n",
    "        if len(word_list) < answer:\n",
    "            answer = len(word_list)\n",
    "    return answer"
   ]
  },
  {
   "cell_type": "code",
   "execution_count": 167,
   "metadata": {},
   "outputs": [
    {
     "data": {
      "text/plain": [
       "'(()((()())))'"
      ]
     },
     "execution_count": 167,
     "metadata": {},
     "output_type": "execute_result"
    }
   ],
   "source": [
    "# 2.괄호변환\n",
    "def seperate_uv(p): \n",
    "    '''\n",
    "    2. 문자열 w를 두 \"균형잡힌 괄호 문자열\" u, v로 분리합니다. \n",
    "    단, u는 \"균형잡힌 괄호 문자열\"로 더 이상 분리할 수 없어야 하며, \n",
    "    v는 빈 문자열이 될 수 있습니다. \n",
    "    '''\n",
    "    u = \"\"\n",
    "    v = \"\"\n",
    "    flag = True\n",
    "\n",
    "    for idx in range(len(p)):\n",
    "        u += p[idx]\n",
    "        opened = u.count('(')\n",
    "        closed = u.count(')')\n",
    "        if flag and closed > opened :\n",
    "            flag = False\n",
    "        elif opened == closed :\n",
    "            v = p[idx+1:]\n",
    "            break\n",
    "    return u,v, flag \n",
    " \n",
    "def solution(p):\n",
    "    answer = \"\"\n",
    "    ## 1. 입력이 빈 문자열인 경우, 빈 문자열을 반환합니다. \n",
    "    if p == \"\":\n",
    "        return \"\"\n",
    "    \n",
    "    u, v, flag = seperate_uv(p)\n",
    "    \n",
    "    if flag :\n",
    "        # 3. 문자열 u가 \"올바른 괄호 문자열\" 이라면 문자열 v에 대해 1단계부터 다시 수행합니다. \n",
    "        # 3-1. 수행한 결과 문자열을 u에 이어 붙인 후 반환합니다. \n",
    "        answer += u\n",
    "        answer += solution(v)\n",
    "    else:\n",
    "        # 4. 문자열 u가 \"올바른 괄호 문자열\"이 아니라면 아래 과정을 수행합니다. \n",
    "        # 4-1. 빈 문자열에 첫 번째 문자로 '('를 붙입니다. \n",
    "        # 4-2. 문자열 v에 대해 1단계부터 재귀적으로 수행한 결과 문자열을 이어 붙입니다. \n",
    "        # 4-3. ')'를 다시 붙입니다. \n",
    "        answer = \"(\"+solution(v)+\")\"\n",
    "        \n",
    "        # 4-4. u의 첫 번째와 마지막 문자를 제거하고, 나머지 문자열의 괄호 방향을 뒤집어서 뒤에 붙입니다. \n",
    "        answer += ''.join([\"(\" if x==\")\" else \")\" for x in u[1:-1] ])\n",
    "    \n",
    "    # 4-5. 생성된 문자열을 반환합니다.\n",
    "    return answer"
   ]
  }
 ],
 "metadata": {
  "kernelspec": {
   "display_name": "Python 3",
   "language": "python",
   "name": "python3"
  },
  "language_info": {
   "codemirror_mode": {
    "name": "ipython",
    "version": 3
   },
   "file_extension": ".py",
   "mimetype": "text/x-python",
   "name": "python",
   "nbconvert_exporter": "python",
   "pygments_lexer": "ipython3",
   "version": "3.7.6"
  }
 },
 "nbformat": 4,
 "nbformat_minor": 4
}
