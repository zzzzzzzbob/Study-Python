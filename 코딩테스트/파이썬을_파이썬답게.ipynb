{
 "cells": [
  {
   "cell_type": "code",
   "execution_count": 1,
   "metadata": {},
   "outputs": [
    {
     "name": "stdout",
     "output_type": "stream",
     "text": [
      "[1, 1]\n",
      "[1, 1]\n"
     ]
    }
   ],
   "source": [
    "# 파이썬을 파이썬답게_programers\n",
    "\n",
    "# mylist의 리스트들의 길이를 반환\n",
    "# [[1], [2]] --> [1, 1]\n",
    "\n",
    "\n",
    "# 기존의 내 풀이\n",
    "def my_solution(mylist):\n",
    "    answer = []\n",
    "    for l in mylist:\n",
    "        answer.append(len(l))\n",
    "    return answer\n",
    "\n",
    "# 파이썬다운 풀이\n",
    "def solution(mylist):\n",
    "    return list(map(len, mylist))\n",
    "\n",
    "# 같은 답에 다른 코드\n",
    "print(my_solution([[1],[2]]))\n",
    "print(solution([[1],[2]]))"
   ]
  },
  {
   "cell_type": "code",
   "execution_count": 2,
   "metadata": {},
   "outputs": [
    {
     "name": "stdin",
     "output_type": "stream",
     "text": [
      " 5 3\n"
     ]
    },
    {
     "name": "stdout",
     "output_type": "stream",
     "text": [
      "1 2\n",
      "1 2\n"
     ]
    }
   ],
   "source": [
    "# 몫과 나머지\n",
    "\n",
    "# a, b 정수를 입력받아서 a를 b로 나눈 몫과 나머지를 출력\n",
    "\n",
    "# 기존의 내 풀이(작은 숫자의 경우 뒤의 풀이보다 빠름)\n",
    "a, b = map(int, input().split(' '))\n",
    "print(a//b, a%b)\n",
    "\n",
    "# 또 다른 풀이(큰 숫자의 경우 앞의 풀이보다 빠름)\n",
    "print(*divmod(a, b))"
   ]
  },
  {
   "cell_type": "code",
   "execution_count": 3,
   "metadata": {},
   "outputs": [
    {
     "name": "stdin",
     "output_type": "stream",
     "text": [
      " 32 16\n"
     ]
    },
    {
     "name": "stdout",
     "output_type": "stream",
     "text": [
      "50\n"
     ]
    }
   ],
   "source": [
    "# n진법으로 표기된 string을 10진법 숫자로 변환하기 - int함수\n",
    "\n",
    "num, base = map(int, input().strip().split(' '))\n",
    "\n",
    "# int 함수의 사용법을 알면 빠르고 편하게\n",
    "print(int(str(num), base))\n",
    "\n"
   ]
  },
  {
   "cell_type": "code",
   "execution_count": 4,
   "metadata": {},
   "outputs": [
    {
     "name": "stdout",
     "output_type": "stream",
     "text": [
      "abc\n",
      "  abc\n",
      "    abc\n",
      "abc    \n",
      "  abc  \n",
      "    abc\n"
     ]
    }
   ],
   "source": [
    "# 문자열 정렬하기\n",
    "\n",
    "# s - 문자열, n - 자릿수\n",
    "s = 'abc'\n",
    "n = 7\n",
    "\n",
    "# 기존 내 풀이 \n",
    "print(s)\n",
    "print(' '*((n-len(s))//2)+s)\n",
    "print(' '*(n-len(s))+s)\n",
    "\n",
    "# 정리된 풀이\n",
    "print(s.ljust(n))  # 왼쪽 정렬\n",
    "print(s.center(n)) # 가운데 정렬\n",
    "print(s.rjust(n))  # 오른쪽 정렬\n"
   ]
  },
  {
   "cell_type": "code",
   "execution_count": 5,
   "metadata": {},
   "outputs": [
    {
     "name": "stdin",
     "output_type": "stream",
     "text": [
      " 1\n"
     ]
    },
    {
     "name": "stdout",
     "output_type": "stream",
     "text": [
      "ABCDEFGHIJKLMNOPQRSTUVWXYZ\n"
     ]
    }
   ],
   "source": [
    "# 알파벳 출력하기\n",
    "\n",
    "# 입력 0 -> 소문자, 입력 1 -> 대문자 알파벳 사전 순으로 출력\n",
    "\n",
    "# string 라이브러리를 사용한 문제\n",
    "# string.ascii_lowercase # 소문자 abcdefghijklmnopqrstuvwxyz\n",
    "# string.ascii_uppercase # 대문자 ABCDEFGHIJKLMNOPQRSTUVWXYZ\n",
    "# string.ascii_letters #대소문자 모두 abcdefghijklmnopqrstuvwxyzABCDEFGHIJKLMNOPQRSTUVWXYZ\n",
    "# string.digits # 숫자 0123456789\n",
    "\n",
    "import string\n",
    "num = int(input().strip())\n",
    "\n",
    "if num :\n",
    "    print(string.ascii_uppercase)\n",
    "else:\n",
    "    print(string.ascii_lowercase)\n",
    "    \n"
   ]
  },
  {
   "cell_type": "code",
   "execution_count": 6,
   "metadata": {},
   "outputs": [],
   "source": [
    "# 원본을 유지한채, 정렬된 리스트 구하기 - sorted\n",
    "\n",
    "# 보통 풀이\n",
    "list1 = [3, 2, 1]\n",
    "list2 = [i for i in list1] \n",
    "list2.sort()\n",
    "\n",
    "# 정리된 풀이\n",
    "list1 = [3, 2, 1]\n",
    "list2 = sorted(list1)\n"
   ]
  },
  {
   "cell_type": "code",
   "execution_count": 7,
   "metadata": {},
   "outputs": [
    {
     "name": "stdout",
     "output_type": "stream",
     "text": [
      "9\n",
      "12\n",
      "15\n",
      "{'cat': 'meow', 'dog': 'woof', 'lion': 'roar'}\n",
      "{'cat': 'meow', 'dog': 'woof', 'lion': 'roar'}\n"
     ]
    }
   ],
   "source": [
    "# 2차원 리스트 뒤집기\n",
    "mylist = [ [1,2,3], [4,5,6], [7,8,9] ]\n",
    "new_list = [[],[],[]]\n",
    "\n",
    "# 내 풀이 \n",
    "answer = [[] for _ in mylist]\n",
    "for l in mylist:\n",
    "    for idx, num in enumerate(l):\n",
    "        answer[idx].append(num)\n",
    "\n",
    "# 기존 풀이\n",
    "for i in range(3):\n",
    "    for j in range(3):\n",
    "        new_list[i].append( mylist[j][i] )\n",
    "        \n",
    "# 정리된 풀이\n",
    "## zip(*mylist) --> zip([1,2,3], [4,5,6], [7,8,9]) 와 같음\n",
    "new_list = list(map(list, zip(*mylist)))\n",
    "\n",
    "# 활용법 1 - 여러 Iterable을 동시에 순회할때\n",
    "list1 = [1,2,3]\n",
    "list2 = [3,4,5]\n",
    "list3 = [5,6,7]\n",
    "for l1, l2, l3 in zip(list1, list2, list3):\n",
    "    print(l1+l2+l3)\n",
    "\n",
    "# 활용법 2 - Key 리스트와 Value 리스트로 딕셔너리 생성할때\n",
    "animals = ['cat', 'dog', 'lion']\n",
    "sounds = ['meow', 'woof', 'roar']\n",
    "answer = dict(zip(animals, sounds))\n",
    "print(answer)\n",
    "\n",
    "## animals와 sounds가 같이 있는 경우\n",
    "animals = [['cat','dog','lion'], ['meow', 'woof', 'roar']]\n",
    "answer = dict(zip(*animals))\n",
    "print(answer)\n"
   ]
  },
  {
   "cell_type": "code",
   "execution_count": 9,
   "metadata": {},
   "outputs": [
    {
     "data": {
      "text/plain": [
       "[1, 100, 33]"
      ]
     },
     "execution_count": 9,
     "metadata": {},
     "output_type": "execute_result"
    }
   ],
   "source": [
    "# 모든 멤버의 type 변환하기\n",
    "def solution(mylist):\n",
    "    return list(map(int, mylist))\n",
    "\n",
    "# 기존 풀이\n",
    "list1 = ['1', '100', '33']\n",
    "list2 = []\n",
    "for iw in mylist:\n",
    "    list2.append(int(i))\n",
    "    \n",
    "# 정리된 풀이 \n",
    "# list(map(int, mylist))\n",
    "\n",
    "solution(['1','100', '33'])"
   ]
  },
  {
   "cell_type": "code",
   "execution_count": 10,
   "metadata": {},
   "outputs": [
    {
     "name": "stdout",
     "output_type": "stream",
     "text": [
      "110033\n",
      "110033\n"
     ]
    }
   ],
   "source": [
    "# sequence 멤버를 하나로 이어붙이기 \n",
    "\n",
    "# 기존 풀이\n",
    "my_list = ['1', '100', '33']\n",
    "answer = ''\n",
    "for i in my_list:\n",
    "    answer += i\n",
    "print(answer)\n",
    "    \n",
    "# 정리된 풀이\n",
    "my_list = ['1', '100', '33']\n",
    "answer = ''.join(my_list)\n",
    "print(answer)\n"
   ]
  },
  {
   "cell_type": "code",
   "execution_count": 11,
   "metadata": {},
   "outputs": [
    {
     "name": "stdout",
     "output_type": "stream",
     "text": [
      "*\n",
      "**\n",
      "***\n",
      "****\n",
      "*****\n",
      "******\n",
      "*******\n",
      "      *\n",
      "     **\n",
      "    ***\n",
      "   ****\n",
      "  *****\n",
      " ******\n",
      "*******\n"
     ]
    },
    {
     "data": {
      "text/plain": [
       "[None, None, None, None, None, None, None]"
      ]
     },
     "execution_count": 11,
     "metadata": {},
     "output_type": "execute_result"
    }
   ],
   "source": [
    "# 삼각형 별찍기\n",
    "\n",
    "n = 7\n",
    "# 내 풀이\n",
    "[print(('*'*(i+1))) for i in range(n)]           # 기본 왼쪽 정렬 별찍기\n",
    "[print(('*'*(i+1)).rjust(n)) for i in range(n)]  # 오른쪽 정렬 별찍기"
   ]
  },
  {
   "cell_type": "code",
   "execution_count": 12,
   "metadata": {
    "scrolled": true
   },
   "outputs": [
    {
     "name": "stdout",
     "output_type": "stream",
     "text": [
      "('A', 'x', '1') ('A', 'x', '2') ('A', 'x', '3') ('A', 'x', '4') ('A', 'y', '1') ('A', 'y', '2') ('A', 'y', '3') ('A', 'y', '4') ('B', 'x', '1') ('B', 'x', '2') ('B', 'x', '3') ('B', 'x', '4') ('B', 'y', '1') ('B', 'y', '2') ('B', 'y', '3') ('B', 'y', '4') ('C', 'x', '1') ('C', 'x', '2') ('C', 'x', '3') ('C', 'x', '4') ('C', 'y', '1') ('C', 'y', '2') ('C', 'y', '3') ('C', 'y', '4') ('D', 'x', '1') ('D', 'x', '2') ('D', 'x', '3') ('D', 'x', '4') ('D', 'y', '1') ('D', 'y', '2') ('D', 'y', '3') ('D', 'y', '4')\n",
      "('A', 'x', '1')\n",
      "('A', 'x', '2')\n",
      "('A', 'x', '3')\n",
      "('A', 'x', '4')\n",
      "('A', 'y', '1')\n",
      "('A', 'y', '2')\n",
      "('A', 'y', '3')\n",
      "('A', 'y', '4')\n",
      "('B', 'x', '1')\n",
      "('B', 'x', '2')\n",
      "('B', 'x', '3')\n",
      "('B', 'x', '4')\n",
      "('B', 'y', '1')\n",
      "('B', 'y', '2')\n",
      "('B', 'y', '3')\n",
      "('B', 'y', '4')\n",
      "('C', 'x', '1')\n",
      "('C', 'x', '2')\n",
      "('C', 'x', '3')\n",
      "('C', 'x', '4')\n",
      "('C', 'y', '1')\n",
      "('C', 'y', '2')\n",
      "('C', 'y', '3')\n",
      "('C', 'y', '4')\n",
      "('D', 'x', '1')\n",
      "('D', 'x', '2')\n",
      "('D', 'x', '3')\n",
      "('D', 'x', '4')\n",
      "('D', 'y', '1')\n",
      "('D', 'y', '2')\n",
      "('D', 'y', '3')\n",
      "('D', 'y', '4')\n"
     ]
    }
   ],
   "source": [
    "# 곱집합 구하기\n",
    "\n",
    "# 기존 풀이\n",
    "iterable1 = 'ABCD'\n",
    "iterable2 = 'xy'\n",
    "iterable3 = '1234'\n",
    "\n",
    "for i in iterable1:\n",
    "    for j in iterable2:\n",
    "        for k in iterable3:\n",
    "            pass\n",
    "#             print(i+j+k)\n",
    "\n",
    "# 정리된 풀이\n",
    "import itertools\n",
    "iterable1 = 'ABCD'\n",
    "iterable2 = 'xy'\n",
    "iterable3 = '1234'\n",
    "s = itertools.product(iterable1, iterable2, iterable3)\n",
    "print(*itertools.product(iterable1, iterable2, iterable3))\n",
    "for x in s:\n",
    "    print(x)"
   ]
  },
  {
   "cell_type": "code",
   "execution_count": 13,
   "metadata": {},
   "outputs": [
    {
     "name": "stdout",
     "output_type": "stream",
     "text": [
      "내 풀이 - [1, 2]\n",
      "방법 1 - [1, 2]\n",
      "방법 2 - [1, 2]\n",
      "방법 3 - [1, 2]\n",
      "방법 4 - [1, 2]\n",
      "방법 5 - [1, 2]\n",
      "방법 6 - [1, 2]\n",
      "방법 7 - [1, 2]\n"
     ]
    }
   ],
   "source": [
    "# 2차원 리스트를 1차원 리스트로 만들기\n",
    "\n",
    "\n",
    "# [[1],[2]] --> [1, 2]\n",
    "\n",
    "# 내 풀이의 한계 ㅠ\n",
    "mylist = [[1],[2]]\n",
    "new_list = []\n",
    "for l in mylist:\n",
    "    for x in l:\n",
    "        new_list.append(x)\n",
    "print(\"내 풀이 - {}\".format(new_list))\n",
    "\n",
    "# 정리된 풀이\n",
    "# 방법 1 - sum함수 (가장 간단해보임)\n",
    "answer = sum(mylist, [])\n",
    "print(\"방법 1 - {}\".format(answer))\n",
    "\n",
    "# 방법 2 - itertools.chain\n",
    "import itertools\n",
    "print(\"방법 2 - {}\".format(list(itertools.chain.from_iterable(mylist)))) \n",
    "\n",
    "# 방법 3 - itertools와 unpacking\n",
    "import itertools\n",
    "print(\"방법 3 - {}\".format(list(itertools.chain(*mylist))))\n",
    "\n",
    "# 방법4 - list comprehension 이용\n",
    "answer = [element for array in mylist for element in array]\n",
    "print(\"방법 4 - {}\".format(answer))\n",
    "\n",
    "# 방법 5 - reduce 함수 이용1\n",
    "from functools import reduce\n",
    "print(\"방법 5 - {}\".format(list(reduce(lambda x, y: x+y, mylist))))\n",
    "\n",
    "# 방법 6 - reduce 함수 이용2\n",
    "from functools import reduce\n",
    "import operator\n",
    "print(\"방법 6 - {}\".format(list(reduce(operator.add, mylist))))\n",
    "\n",
    "# 방법 7 - numpy 라이브러리의 flatten 이용\n",
    "import numpy as np\n",
    "print(\"방법 7 - {}\".format(np.array(mylist).flatten().tolist()))\n"
   ]
  },
  {
   "cell_type": "code",
   "execution_count": 14,
   "metadata": {},
   "outputs": [
    {
     "name": "stdout",
     "output_type": "stream",
     "text": [
      "['123', '132', '213', '231', '312', '321']\n",
      "['12', '13', '21', '23', '31', '32']\n",
      "['12', '13', '23']\n"
     ]
    }
   ],
   "source": [
    "# 순열과 조합\n",
    "# 가능한 경우의 수 만들기 \n",
    "# [1, 2] --> [1,2], [2,1]\n",
    "\n",
    "import itertools\n",
    "\n",
    "pool = ['1', '2', '3']\n",
    "# 순열 permutations\n",
    "print(list(map(''.join, itertools.permutations(pool)))) # 3개의 원소로 수열 만들기\n",
    "print(list(map(''.join, itertools.permutations(pool, 2)))) # 2개의 원소로 수열 만들기\n",
    "\n",
    "# 조합 combinations\n",
    "print(list(map(''.join, itertools.combinations(pool,2))))"
   ]
  },
  {
   "cell_type": "code",
   "execution_count": 15,
   "metadata": {},
   "outputs": [
    {
     "name": "stdin",
     "output_type": "stream",
     "text": [
      " aaabbcccddeee\n"
     ]
    },
    {
     "name": "stdout",
     "output_type": "stream",
     "text": [
      "3\n",
      "Counter({'e': 3, 'c': 3, 'a': 3, 'b': 2, 'd': 2})\n",
      "None\n"
     ]
    }
   ],
   "source": [
    "from collections import Counter\n",
    "\n",
    "my_str = input().strip()\n",
    "\n",
    "container = Counter(my_str)\n",
    "max_num = container.most_common()[0][1]\n",
    "print(max_num)\n",
    "f = lambda x : ''.join(x.keys()) if x.values() == max_num else print(x)\n",
    "print(f(container))\n",
    "\n",
    "\n"
   ]
  },
  {
   "cell_type": "code",
   "execution_count": 16,
   "metadata": {},
   "outputs": [
    {
     "name": "stdin",
     "output_type": "stream",
     "text": [
      " aaabbcccddeee\n"
     ]
    },
    {
     "name": "stdout",
     "output_type": "stream",
     "text": [
      "ace\n"
     ]
    }
   ],
   "source": [
    "# 가장 많이 등장하는 알파벳 차기\n",
    "\n",
    "# 가장 많이 등장하는 알파벳을 오름차순으로 출력하기\n",
    "\n",
    "from collections import Counter\n",
    "\n",
    "answer = ''\n",
    "my_str = input().strip()\n",
    "container = Counter(my_str)\n",
    "max_num = container.most_common()[0][1]\n",
    "for x in container.items():\n",
    "    if x[1] == max_num:\n",
    "        answer+=x[0]\n",
    "        \n",
    "print(''.join(sorted(answer)))"
   ]
  },
  {
   "cell_type": "code",
   "execution_count": 17,
   "metadata": {},
   "outputs": [
    {
     "data": {
      "text/plain": [
       "[4, 36]"
      ]
     },
     "execution_count": 17,
     "metadata": {},
     "output_type": "execute_result"
    }
   ],
   "source": [
    "# for 문과 if문을 한번에\n",
    "# comprehension에서 if 만 있는 경우는 맨 뒤에, else까지 있는 경우에는 앞에 작성\n",
    "# [x **2 if x%2==0 else x**3 for x in mylist]\n",
    "\n",
    "# mylist 의 값 중에 짝수만 제곱하여 리스트로 리턴하는 문제\n",
    "# [3, 2, 6, 7] --> [4, 36]\n",
    "def solution(mylist):\n",
    "    answer = [x**2 for x in mylist if x % 2 == 0 ]\n",
    "    \n",
    "    return answer\n",
    "\n",
    "solution([3,2,6,7])"
   ]
  },
  {
   "cell_type": "code",
   "execution_count": 18,
   "metadata": {},
   "outputs": [
    {
     "name": "stdin",
     "output_type": "stream",
     "text": [
      " 5\n",
      " 4\n",
      " 3\n",
      " 2\n",
      " 2\n"
     ]
    },
    {
     "name": "stdout",
     "output_type": "stream",
     "text": [
      "not found\n"
     ]
    },
    {
     "name": "stdin",
     "output_type": "stream",
     "text": [
      " 4\n"
     ]
    },
    {
     "name": "stdout",
     "output_type": "stream",
     "text": [
      "found\n"
     ]
    }
   ],
   "source": [
    "#### flag OR for-else\n",
    "\n",
    "# 자연수 5개를 순차적으로 곱하며 제곱근 여부 판단\n",
    "import math\n",
    "\n",
    "# 내 풀이\n",
    "flag = 'not found'\n",
    "a = 1\n",
    "for _ in range(5):\n",
    "    a *= int(input())\n",
    "    if math.sqrt(a).is_integer() :\n",
    "        flag ='found'\n",
    "        \n",
    "print(flag)\n",
    "\n",
    "# 정리된 풀이\n",
    "multiplied = 1\n",
    "for _ in range(5):\n",
    "    multiplied *= int(input())\n",
    "    if math.sqrt(multiplied) == int(math.sqrt(multiplied)):\n",
    "        print('found')\n",
    "        break\n",
    "else:\n",
    "    print('not found')\n"
   ]
  },
  {
   "cell_type": "code",
   "execution_count": 19,
   "metadata": {},
   "outputs": [
    {
     "name": "stdout",
     "output_type": "stream",
     "text": [
      "5 3\n"
     ]
    }
   ],
   "source": [
    "# 두 변수의 값 바꾸기\n",
    "\n",
    "a = 3\n",
    "b = 5\n",
    "\n",
    "a, b = b, a\n",
    "print(a,b)"
   ]
  },
  {
   "cell_type": "code",
   "execution_count": 22,
   "metadata": {},
   "outputs": [
    {
     "data": {
      "text/plain": [
       "3"
      ]
     },
     "execution_count": 22,
     "metadata": {},
     "output_type": "execute_result"
    }
   ],
   "source": [
    "# 이진 탐색\n",
    "# 오름차순 정리되어 있는 경우 검색 속도가 아주 빠름\n",
    "import bisect\n",
    "\n",
    "mylist = [1, 2, 3, 7, 9, 11, 33]\n",
    "\n",
    "bisect.bisect(mylist, 3)"
   ]
  },
  {
   "cell_type": "code",
   "execution_count": 23,
   "metadata": {},
   "outputs": [
    {
     "name": "stdout",
     "output_type": "stream",
     "text": [
      "1. (1, 2)\n",
      "2. (1, 2)\n",
      "3. (1, 2)\n"
     ]
    }
   ],
   "source": [
    "# 클래스 인스턴스 출력하기\n",
    "\n",
    "# __str__ 지정전 출력방법\n",
    "class Coord(object):\n",
    "    def __init__ (self, x, y):\n",
    "        self.x, self.y = x, y\n",
    "\n",
    "point = Coord(1, 2)\n",
    "# 인스턴스의 변수들을 직접 출력\n",
    "print( '1. ({}, {})'.format(point.x, point.y) ) \n",
    "\n",
    "# 또는 출력함수 제작\n",
    "def print_coord(coord):\n",
    "    print( '2. ({}, {})'.format(coord.x, coord.y) )\n",
    "\n",
    "print_coord(point)\n",
    "\n",
    "\n",
    "# __str__을 이용하여 출력방법\n",
    "class Coord(object):\n",
    "    def __init__ (self, x, y):\n",
    "        self.x, self.y = x, y\n",
    "    def __str__ (self):\n",
    "        return '3. ({}, {})'.format(self.x, self.y)\n",
    "\n",
    "point = Coord(1, 2)\n",
    "print(point)\n"
   ]
  },
  {
   "cell_type": "code",
   "execution_count": 24,
   "metadata": {},
   "outputs": [
    {
     "data": {
      "text/plain": [
       "True"
      ]
     },
     "execution_count": 24,
     "metadata": {},
     "output_type": "execute_result"
    }
   ],
   "source": [
    "# 가장 큰 수, inf\n",
    "\n",
    "max_val = 999999999\n",
    "max_val > 1000000000\n",
    "\n",
    "max_val = float('inf') # 가장 큰 수 할당\n",
    "max_val > 1000000000000000000\n",
    "\n",
    "# 가장 작은 수, -inf\n",
    "min_val = float('-inf')\n",
    "min_val < -999999999999999999999"
   ]
  },
  {
   "cell_type": "raw",
   "metadata": {},
   "source": [
    "# 파일 입출력\n",
    "# with - as 구문은 파일 뿐만 아니라 socket이나 http 등에서도 사용할 수 있습니다.\n",
    "\n",
    "# 기존 코드\n",
    "f = open('myfile.txt', 'r')\n",
    "while True:\n",
    "    line = f.readline()\n",
    "    if not line: break\n",
    "    raw = line.split()\n",
    "    print(raw)\n",
    "f.close()\n",
    "\n",
    "# 정리된 코드\n",
    "with open('myfile.txt') as file:\n",
    "  for line in file.readlines():\n",
    "    print(line.strip().split('\\t'))\n"
   ]
  }
 ],
 "metadata": {
  "kernelspec": {
   "display_name": "Python 3",
   "language": "python",
   "name": "python3"
  },
  "language_info": {
   "codemirror_mode": {
    "name": "ipython",
    "version": 3
   },
   "file_extension": ".py",
   "mimetype": "text/x-python",
   "name": "python",
   "nbconvert_exporter": "python",
   "pygments_lexer": "ipython3",
   "version": "3.5.4"
  }
 },
 "nbformat": 4,
 "nbformat_minor": 4
}
