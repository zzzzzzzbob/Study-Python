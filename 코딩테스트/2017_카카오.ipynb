{
 "cells": [
  {
   "cell_type": "markdown",
   "metadata": {},
   "source": [
    "# 2017 카카오 신입 공채 3차"
   ]
  },
  {
   "cell_type": "code",
   "execution_count": 1,
   "metadata": {},
   "outputs": [],
   "source": [
    "# 문제1. N진수 게임\n",
    "# n - 진법, t - 갯수, m - 인원, p - 튜브의 순서\n",
    "def solution(n, t, m, p):\n",
    "    answer = \"\"\n",
    "    num = 0\n",
    "    human = 1\n",
    "    \n",
    "    if n == 2:\n",
    "        f = lambda x : bin(x)[2:]\n",
    "    elif n == 8:\n",
    "        f = lambda x : oct(x)[2:]\n",
    "    elif n == 16:\n",
    "        f = lambda x : hex(x)[2:]\n",
    "    else:\n",
    "        f = lambda x : x\n",
    "\n",
    "    while len(answer) < t:\n",
    "        x_num = f(num)\n",
    "        for say in x_num:\n",
    "            if human == p and len(answer) < t:\n",
    "                answer += say\n",
    "            if human < m:\n",
    "                human += 1\n",
    "            else:\n",
    "                human = 1\n",
    "        num += 1        \n",
    "        \n",
    "    return answer.upper()"
   ]
  },
  {
   "cell_type": "code",
   "execution_count": 2,
   "metadata": {},
   "outputs": [
    {
     "name": "stdout",
     "output_type": "stream",
     "text": [
      "True\n",
      "True\n",
      "True\n"
     ]
    }
   ],
   "source": [
    "print(\"0111\" == solution(2, 4, 2, 1))\n",
    "print(\"02468ACE11111111\" == solution(16, 16, 2, 1))\n",
    "print(\"13579BDF01234567\" == solution(16, 16, 2, 2))"
   ]
  }
 ],
 "metadata": {
  "kernelspec": {
   "display_name": "Python 3",
   "language": "python",
   "name": "python3"
  },
  "language_info": {
   "codemirror_mode": {
    "name": "ipython",
    "version": 3
   },
   "file_extension": ".py",
   "mimetype": "text/x-python",
   "name": "python",
   "nbconvert_exporter": "python",
   "pygments_lexer": "ipython3",
   "version": "3.5.4"
  }
 },
 "nbformat": 4,
 "nbformat_minor": 4
}
