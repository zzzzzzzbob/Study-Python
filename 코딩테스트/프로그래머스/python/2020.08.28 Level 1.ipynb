{
 "cells": [
  {
   "cell_type": "code",
   "execution_count": 5,
   "metadata": {},
   "outputs": [],
   "source": [
    "# 1. 크레인 인형뽑기 게임 - 2019 카카오 개발자 겨울 인턴십\n",
    "def solution(boards, moves):\n",
    "    answer = 0\n",
    "    moves = [ x - 1 for x in moves]\n",
    "    s = [0]\n",
    "    for move in moves :\n",
    "        for board in boards :\n",
    "            if board[move] != 0:\n",
    "                s.append(board[move])\n",
    "                board[move] = 0\n",
    "                if s[-1] == s[-2]:\n",
    "                    s.pop()\n",
    "                    s.pop()\n",
    "                    answer += 2\n",
    "                break\n",
    "\n",
    "    return answer\n"
   ]
  },
  {
   "cell_type": "code",
   "execution_count": 6,
   "metadata": {},
   "outputs": [],
   "source": [
    "# 2. 완주하지 못한 선수 - 해시\n",
    "from collections import Counter\n",
    "\n",
    "def solution(participant, completion):\n",
    "    answer = list(Counter(participant) - Counter(completion))\n",
    "    \n",
    "    return answer[0]"
   ]
  },
  {
   "cell_type": "code",
   "execution_count": 8,
   "metadata": {},
   "outputs": [],
   "source": [
    "# 3. 모의고사 - 완전탐색\n",
    "def solution(answers):\n",
    "    # s_1 = list(map(lambda x : x+1, range(5)))\n",
    "    s_1 = [1,2,3,4,5]\n",
    "    s_2 = [2,1,2,3,2,4,2,5]\n",
    "    s_3 = [3, 3, 1,1,2,2,4,4,5,5]\n",
    "    score = [0,0,0]\n",
    "    \n",
    "    for idx, answer in enumerate(answers):\n",
    "        score[0] += 1 if s_1[idx%len(s_1)] == answer else 0\n",
    "        score[1] += 1 if s_2[idx%len(s_2)] == answer else 0\n",
    "        score[2] += 1 if s_3[idx%len(s_3)] == answer else 0\n",
    "    \n",
    "    max_value = max(a)\n",
    "    \n",
    "    return [ idx + 1  for idx, cnt in enumerate(score) if cnt == max_value ]"
   ]
  }
 ],
 "metadata": {
  "kernelspec": {
   "display_name": "Python 3",
   "language": "python",
   "name": "python3"
  },
  "language_info": {
   "codemirror_mode": {
    "name": "ipython",
    "version": 3
   },
   "file_extension": ".py",
   "mimetype": "text/x-python",
   "name": "python",
   "nbconvert_exporter": "python",
   "pygments_lexer": "ipython3",
   "version": "3.5.4"
  }
 },
 "nbformat": 4,
 "nbformat_minor": 4
}
