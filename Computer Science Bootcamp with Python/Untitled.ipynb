{
 "cells": [
  {
   "cell_type": "markdown",
   "metadata": {},
   "source": [
    "# Function "
   ]
  },
  {
   "cell_type": "markdown",
   "metadata": {},
   "source": [
    "> ### 전역변수"
   ]
  },
  {
   "cell_type": "code",
   "execution_count": 7,
   "metadata": {},
   "outputs": [
    {
     "name": "stdout",
     "output_type": "stream",
     "text": [
      "전연변수 : 1\n"
     ]
    }
   ],
   "source": [
    "전역변수 = 1\n",
    "\n",
    "def func():\n",
    "    # 함수내에서 전역변수 사용가능\n",
    "    print(\"전연변수 : {}\".format(전역변수))\n",
    "\n",
    "func()"
   ]
  },
  {
   "cell_type": "markdown",
   "metadata": {},
   "source": [
    "> ### 전역변수 변경"
   ]
  },
  {
   "cell_type": "code",
   "execution_count": 16,
   "metadata": {},
   "outputs": [
    {
     "name": "stdout",
     "output_type": "stream",
     "text": [
      "전역변수 in func : 2\n",
      "전역변수 : 1\n"
     ]
    }
   ],
   "source": [
    "전역변수 = 1\n",
    "\n",
    "def func():\n",
    "    # 전역 변수 변경\n",
    "    전역변수 = 2\n",
    "    print(\"전역변수 in func : {}\".format(전역변수))\n",
    "    \n",
    "func()\n",
    "\n",
    "# 전역 변수 변경 실패\n",
    "print(\"전역변수 : {}\".format(전역변수))"
   ]
  },
  {
   "cell_type": "markdown",
   "metadata": {},
   "source": [
    "> global 선언 없이 진행되는 경우\n",
    "![img1](./img/전역변수1.png)"
   ]
  },
  {
   "cell_type": "code",
   "execution_count": 17,
   "metadata": {},
   "outputs": [
    {
     "name": "stdout",
     "output_type": "stream",
     "text": [
      "전역변수 in func : 2\n",
      "전역변수 : 2\n"
     ]
    }
   ],
   "source": [
    "전역변수 = 1\n",
    "\n",
    "def func():\n",
    "    # global 을 통하여 함수 내에서 전역변수 선언\n",
    "    global 전역변수\n",
    "    전역변수 = 2\n",
    "    print(\"전역변수 in func : {}\".format(전역변수))\n",
    "    \n",
    "func()\n",
    "\n",
    "if 지역변수 == 1:\n",
    "    print(\"변경 실패 !\")\n",
    "else: \n",
    "    print(\"변경 성공 !\")\n",
    "\n",
    "# 전역 변수 변경 성공\n",
    "print(\"전역변수 : {}\".format(전역변수))\n"
   ]
  },
  {
   "cell_type": "markdown",
   "metadata": {},
   "source": [
    ">global 선언 이후 진행되는 경우\n",
    "![img2](./img/전역변수2.png)"
   ]
  },
  {
   "cell_type": "markdown",
   "metadata": {},
   "source": [
    "> ## 지역변수 활용\n",
    "- 함수 속 지역변수는 함수속의 함수 안에서 nonlocal을 이용해 변경할 수 있다.\n",
    "- global == nonlocal ( 대충 비슷해서 == 로 표현)"
   ]
  },
  {
   "cell_type": "code",
   "execution_count": 24,
   "metadata": {},
   "outputs": [
    {
     "name": "stdout",
     "output_type": "stream",
     "text": [
      "변경 실패 !\n",
      "지역변수 : 1\n"
     ]
    }
   ],
   "source": [
    "def func():\n",
    "    지역변수 = 1\n",
    "    \n",
    "    def func_in_func():\n",
    "        지역변수 = 3\n",
    "    \n",
    "    # 지역 변수 3으로 변경 시도\n",
    "    func_in_func()\n",
    "    \n",
    "    if 지역변수 == 1:\n",
    "        print(\"지역변수 변경 실패 !\")\n",
    "    else: \n",
    "        print(\"지역변수 변경 성공 !\")\n",
    " \n",
    "\n",
    "    # 변경 실패\n",
    "    print(\"지역변수 : {}\".format(지역변수))\n",
    "\n",
    "    \n",
    "func()"
   ]
  },
  {
   "cell_type": "code",
   "execution_count": 25,
   "metadata": {},
   "outputs": [
    {
     "name": "stdout",
     "output_type": "stream",
     "text": [
      "변경 성공 !\n",
      "지역변수 : 3\n"
     ]
    }
   ],
   "source": [
    "def func():\n",
    "    지역변수 = 1\n",
    "    \n",
    "    def func_in_func():\n",
    "        nonlocal 지역변수\n",
    "        지역변수 = 3\n",
    "        \n",
    "    func_in_func()\n",
    "    \n",
    "    if 지역변수 == 1:\n",
    "        print(\"지역변수 변경 실패 !\")\n",
    "    else: \n",
    "        print(\"지역변수 변경 성공 !\")\n",
    "        \n",
    "    # 변경 성공\n",
    "    print(\"지역변수 : {}\".format(지역변수))\n",
    "\n",
    "func()\n",
    "\n",
    "        "
   ]
  },
  {
   "cell_type": "code",
   "execution_count": null,
   "metadata": {},
   "outputs": [],
   "source": [
    "\n"
   ]
  }
 ],
 "metadata": {
  "kernelspec": {
   "display_name": "Python 3",
   "language": "python",
   "name": "python3"
  },
  "language_info": {
   "codemirror_mode": {
    "name": "ipython",
    "version": 3
   },
   "file_extension": ".py",
   "mimetype": "text/x-python",
   "name": "python",
   "nbconvert_exporter": "python",
   "pygments_lexer": "ipython3",
   "version": "3.7.3"
  }
 },
 "nbformat": 4,
 "nbformat_minor": 4
}
