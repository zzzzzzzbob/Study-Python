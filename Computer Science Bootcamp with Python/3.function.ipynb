{
 "cells": [
  {
   "cell_type": "markdown",
   "metadata": {},
   "source": [
    "# 3. Function \n",
    "\n",
    "- ## 3-1 변수 "
   ]
  },
  {
   "cell_type": "markdown",
   "metadata": {},
   "source": [
    "> ### 1) 전역변수"
   ]
  },
  {
   "cell_type": "code",
   "execution_count": 2,
   "metadata": {},
   "outputs": [
    {
     "name": "stdout",
     "output_type": "stream",
     "text": [
      "전연변수 : 1\n"
     ]
    }
   ],
   "source": [
    "전역변수 = 1\n",
    "\n",
    "def func():\n",
    "    # 함수내에서 전역변수 사용가능\n",
    "    print(\"전연변수 : {}\".format(전역변수))\n",
    "\n",
    "func()\n"
   ]
  },
  {
   "cell_type": "markdown",
   "metadata": {},
   "source": [
    "> ### 2) 전역변수 변경"
   ]
  },
  {
   "cell_type": "code",
   "execution_count": 7,
   "metadata": {},
   "outputs": [
    {
     "name": "stdout",
     "output_type": "stream",
     "text": [
      "전역변수 in func : 2\n",
      "전역변수 변경 실패 !\n",
      "전역변수 : 1\n"
     ]
    }
   ],
   "source": [
    "전역변수 = 1\n",
    "\n",
    "def func():\n",
    "    # 전역 변수 변경\n",
    "    전역변수 = 2\n",
    "    print(\"전역변수 in func : {}\".format(전역변수))\n",
    "    \n",
    "func()\n",
    "\n",
    "if 전역변수 == 1:\n",
    "    print(\"전역변수 변경 실패 !\")\n",
    "else: \n",
    "    print(\"전역변수 변경 성공 !\")\n",
    "\n",
    "# 전역 변수 변경 실패\n",
    "print(\"전역변수 : {}\".format(전역변수))\n"
   ]
  },
  {
   "cell_type": "markdown",
   "metadata": {},
   "source": [
    "> global 선언 없이 진행되는 경우\n",
    "\n",
    "![img1](./img/3-1_전역변수_1.png)"
   ]
  },
  {
   "cell_type": "code",
   "execution_count": 27,
   "metadata": {},
   "outputs": [
    {
     "name": "stdout",
     "output_type": "stream",
     "text": [
      "전역변수 in func : 2\n",
      "전역변수 변경 성공 !\n",
      "전역변수 : 2\n"
     ]
    }
   ],
   "source": [
    "전역변수 = 1\n",
    "\n",
    "def func():\n",
    "    # global 을 통하여 함수 내에서 전역변수 선언\n",
    "    global 전역변수\n",
    "    전역변수 = 2\n",
    "    print(\"전역변수 in func : {}\".format(전역변수))\n",
    "    \n",
    "func()\n",
    "\n",
    "if 전역변수 == 1:\n",
    "    print(\"전역변수 변경 실패 !\")\n",
    "else: \n",
    "    print(\"전역변수 변경 성공 !\")\n",
    "\n",
    "# 전역 변수 변경 성공\n",
    "print(\"전역변수 : {}\".format(전역변수))\n"
   ]
  },
  {
   "cell_type": "markdown",
   "metadata": {},
   "source": [
    ">global 선언 이후 진행되는 경우\n",
    "\n",
    "![img2](./img/3-1_전역변수_2.png)"
   ]
  },
  {
   "cell_type": "markdown",
   "metadata": {},
   "source": [
    "> ## 3) 지역변수 활용\n",
    "- 함수 속 지역변수는 함수속의 함수 안에서 nonlocal을 이용해 변경할 수 있다.\n",
    "- global == nonlocal ( 대충 비슷해서 == 로 표현)"
   ]
  },
  {
   "cell_type": "code",
   "execution_count": 4,
   "metadata": {},
   "outputs": [
    {
     "name": "stdout",
     "output_type": "stream",
     "text": [
      "지역변수 변경 실패 !\n",
      "지역변수 : 1\n"
     ]
    }
   ],
   "source": [
    "def func():\n",
    "    지역변수 = 1\n",
    "    \n",
    "    def func_in_func():\n",
    "        지역변수 = 3\n",
    "    \n",
    "    # 지역 변수 3으로 변경 시도\n",
    "    func_in_func()\n",
    "    \n",
    "    if 지역변수 == 1:\n",
    "        print(\"지역변수 변경 실패 !\")\n",
    "    else: \n",
    "        print(\"지역변수 변경 성공 !\")\n",
    " \n",
    "\n",
    "    # 변경 실패\n",
    "    print(\"지역변수 : {}\".format(지역변수))\n",
    "\n",
    "    \n",
    "func()\n"
   ]
  },
  {
   "cell_type": "code",
   "execution_count": 25,
   "metadata": {},
   "outputs": [
    {
     "name": "stdout",
     "output_type": "stream",
     "text": [
      "변경 성공 !\n",
      "지역변수 : 3\n"
     ]
    }
   ],
   "source": [
    "def func():\n",
    "    지역변수 = 1\n",
    "    \n",
    "    def func_in_func():\n",
    "        nonlocal 지역변수\n",
    "        지역변수 = 3\n",
    "        \n",
    "    func_in_func()\n",
    "    \n",
    "    if 지역변수 == 1:\n",
    "        print(\"지역변수 변경 실패 !\")\n",
    "    else: \n",
    "        print(\"지역변수 변경 성공 !\")\n",
    "        \n",
    "    # 변경 성공\n",
    "    print(\"지역변수 : {}\".format(지역변수))\n",
    "\n",
    "func()\n"
   ]
  },
  {
   "cell_type": "markdown",
   "metadata": {},
   "source": [
    "---\n",
    "- ## 3-2 인자 전달 방식\n"
   ]
  },
  {
   "cell_type": "markdown",
   "metadata": {},
   "source": [
    ">1. call by value (값을 전달하는 방식)  \n",
    ">2. call by reference (위치값을 전달하는 방식 - ex. C의 포인터 개념)\n",
    ">3. call by object reference (파이썬에서 사용하는 전달 방식)**\n"
   ]
  },
  {
   "cell_type": "markdown",
   "metadata": {},
   "source": [
    "\n",
    "> ## 1) call by value\n",
    "```cpp\n",
    "    void change_value(int x, int value)\n",
    "    {\n",
    "        x = value;\n",
    "    }\n",
    "    \n",
    "    int main(void)\n",
    "    {\n",
    "        int x = 10;\n",
    "        change_value(x, 20)\n",
    "    }\n",
    "```\n",
    "\n",
    "![img](./img/3-2_call_by_value.png)"
   ]
  },
  {
   "cell_type": "markdown",
   "metadata": {},
   "source": [
    "> ## 2) call by reference\n",
    "```cpp\n",
    "    void change_value(int *x, int value)\n",
    "    {\n",
    "        *x = value;\n",
    "    }\n",
    "\n",
    "    int main(Void)\n",
    "    {\n",
    "        int x = 10;\n",
    "        change_value(&x, 20);\n",
    "    }\n",
    "```\n",
    "![img](./img/3-2_call_by_reference.png)"
   ]
  },
  {
   "cell_type": "markdown",
   "metadata": {},
   "source": [
    "> ## 3) call by object reference\n",
    "> * 파이썬에서 사용되는 방식\n",
    "> * 변수가 직접 전달되거나   \n",
    "> 변수의 참조주소가 전달되지 않고  \n",
    "> 변수가 가르키는 객체의 참조주소가 전달되는 방식\n",
    "```python\n",
    "def change_value(x, value):\n",
    "    x = value\n",
    "    print(\"x : {} in change_value\".format(x))\n",
    "    \n",
    "if __name__ == \"__main__\":\n",
    "    x = 10\n",
    "    change_value(x, 20)\n",
    "    print(\"x : {} in main\".format(x))\n",
    "```\n",
    "\n",
    "![img](./img/3-2_call_by_object_reference_1.png)\n",
    "\n",
    "> * 위와 같이 변수가 직접 연결되지 않기때문에 외부변수를 함수 내에서 변경이 불가\n",
    "\n",
    "\n",
    "```python\n",
    "def change_value(x):\n",
    "    x = [11, 22, 33]\n",
    "    \n",
    "if __name__ == \"__main__\":\n",
    "    x = [1, 2, 3]\n",
    "    change_value(x)\n",
    "```\n",
    "\n",
    "![img](./img/3-2_call_by_object_reference_2.png)  \n",
    "> * 직접 변수를 변경하지 않고 새로운 리스트를 생성하게 되어 외부변수 변경 실패"
   ]
  },
  {
   "cell_type": "markdown",
   "metadata": {},
   "source": [
    "> (1) 변수 변경을 원하는 경우 return을 이용\n",
    "```python\n",
    "    def change_value(x, value):\n",
    "        x = value\n",
    "        return x\n",
    "        \n",
    "    if __name__ == \"__main__\":\n",
    "        x = 10\n",
    "        x = change_value(x, 20)\n",
    "```\n",
    "> * 변경이 제한되는 튜플같은 경우 이와 같이 \n",
    "        "
   ]
  },
  {
   "cell_type": "markdown",
   "metadata": {},
   "source": [
    "> (2) 직접 변경\n",
    "```python    \n",
    "    def change_value(x, value):\n",
    "        x[0] = value\n",
    "    \n",
    "    if __name__ == \"__main__\":\n",
    "        x = [1,2,3]\n",
    "        change_value(x, \"Hi!\")\n",
    "```\n",
    "![img](./img/3-2_call_by_object_reference_3.png)  \n",
    "> * 리스트 객체에 직접 접근하여 변경 가능\n",
    "> * 리스트 객체를 새로 할당하면 변수가 변경되는 대신 새로운 리스트 객체 생성\n",
    "        "
   ]
  },
  {
   "cell_type": "markdown",
   "metadata": {},
   "source": [
    "---\n",
    "> ## 3-3 lambda 함수\n",
    "> * 람다(lambda) 함수는 이름이 없는 함수\n",
    "> * 간단하게 제작하여 사용할 수 있는 함수"
   ]
  },
  {
   "cell_type": "markdown",
   "metadata": {},
   "source": [
    "```python\n",
    "li = [i for i range(1,6)]\n",
    "\n",
    "# 2로 나눠서 나머지가 0이 아닌 값들부터 앞으로 정렬\n",
    "# 값들은 별도로 오름차순이나 내림 차순으로 정렬되지 않음\n",
    "# [1, 2, 3, 4, 5] -> [1, 3, 5, 2, 4]\n",
    "li.sort(key=lambda x : x % 2 == 0)\n",
    "\n",
    "# 제곱해주는 함수 생성\n",
    "f = lambda x : x ** 2\n",
    "\n",
    "# li 값들을 제곱하여 저장\n",
    "# [1, 3, 5, 2, 4] -> [1, 9, 25, 4, 16]\n",
    "li = [f(num) for num in li]\n",
    "```"
   ]
  }
 ],
 "metadata": {
  "kernelspec": {
   "display_name": "Python 3",
   "language": "python",
   "name": "python3"
  },
  "language_info": {
   "codemirror_mode": {
    "name": "ipython",
    "version": 3
   },
   "file_extension": ".py",
   "mimetype": "text/x-python",
   "name": "python",
   "nbconvert_exporter": "python",
   "pygments_lexer": "ipython3",
   "version": "3.7.3"
  }
 },
 "nbformat": 4,
 "nbformat_minor": 4
}
